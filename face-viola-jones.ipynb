{
 "cells": [
  {
   "cell_type": "code",
   "execution_count": 1,
   "metadata": {},
   "outputs": [],
   "source": [
    "import cv2\n",
    "import os\n",
    "import shutil\n",
    "import matplotlib.pyplot as plt\n",
    "from tqdm import tqdm\n",
    "# from deepface import DeepFace"
   ]
  },
  {
   "cell_type": "code",
   "execution_count": 2,
   "metadata": {},
   "outputs": [],
   "source": [
    "# Define the directories\n",
    "src_dir = './nice-dataset/'\n",
    "dst_dir = './cropped-face/'\n",
    "\n",
    "no_face_files = []"
   ]
  },
  {
   "cell_type": "code",
   "execution_count": 3,
   "metadata": {},
   "outputs": [],
   "source": [
    "face_cascade = cv2.CascadeClassifier(cv2.data.haarcascades + 'haarcascade_frontalface_default.xml')"
   ]
  },
  {
   "cell_type": "code",
   "execution_count": 4,
   "metadata": {},
   "outputs": [],
   "source": [
    "def process_subfolders(folder_path):\n",
    "    num_files = sum([len(files) for _, _, files in os.walk(folder_path)])\n",
    "    processed_files = 0\n",
    "\n",
    "    with tqdm(total=num_files, desc='Processing files') as pbar:\n",
    "        for dirpath, dirnames, filenames in os.walk(folder_path):\n",
    "            # Get the subfolder name\n",
    "            subfolder_name = os.path.basename(dirpath)\n",
    "\n",
    "            # Check if the subfolder name is larger than 3999\n",
    "            # if subfolder_name.isdigit() and int(subfolder_name) > 3999:\n",
    "            for filename in filenames:\n",
    "                if filename.endswith('.png'):\n",
    "                    # Construct the full source file path\n",
    "                    src_file = os.path.join(dirpath, filename)\n",
    "\n",
    "                    # Process the file\n",
    "                    process_file(src_file)\n",
    "                    processed_files += 1\n",
    "                    pbar.update(1)\n",
    "\n",
    "    print(f\"Number of files in {src_dir}: {num_files}\")\n",
    "    print(f\"Number of files processed: {processed_files}\")"
   ]
  },
  {
   "cell_type": "code",
   "execution_count": 5,
   "metadata": {},
   "outputs": [],
   "source": [
    "def process_file(file_path):\n",
    "    # Load the image in grayscale format\n",
    "    image = cv2.imread(file_path, 0)\n",
    "\n",
    "    # Detect faces in the grayscale image\n",
    "    faces = face_cascade.detectMultiScale(image, scaleFactor=1.1, minNeighbors=5, minSize=(30, 30))\n",
    "\n",
    "\n",
    "    if len(faces) != 0:\n",
    "        dst_file = os.path.join(dst_dir, os.path.relpath(file_path, src_dir))\n",
    "\n",
    "        for i, (x, y, w, h) in enumerate(faces):\n",
    "            # Expand the face region to include the chin\n",
    "            y -= int(0.2 * h)  # Increase the top boundary\n",
    "            h = int(1.5 * h)  # Increase the height\n",
    "\n",
    "            # Adjust the boundaries to prevent going beyond the image dimensions\n",
    "            y = max(0, y)\n",
    "            h = min(image.shape[0] - y, h)\n",
    "\n",
    "            face_img = image[y:y+h, x:x+w]\n",
    "            face_resized = cv2.resize(face_img, (128, 128))\n",
    "            os.makedirs(os.path.dirname(dst_file), exist_ok=True)\n",
    "            cv2.imwrite(dst_file, face_resized)\n",
    "\n",
    "\n",
    "    else:\n",
    "        # No face detected, add file path to the list\n",
    "        no_face_files.append(file_path)"
   ]
  },
  {
   "cell_type": "code",
   "execution_count": 6,
   "metadata": {},
   "outputs": [
    {
     "name": "stderr",
     "output_type": "stream",
     "text": [
      "Processing files: 100%|██████████| 62460/62460 [11:39<00:00, 89.23it/s] "
     ]
    },
    {
     "name": "stdout",
     "output_type": "stream",
     "text": [
      "Number of files in ./nice-dataset/: 62460\n",
      "Number of files processed: 62460\n"
     ]
    },
    {
     "name": "stderr",
     "output_type": "stream",
     "text": [
      "\n"
     ]
    }
   ],
   "source": [
    "process_subfolders(src_dir)"
   ]
  },
  {
   "cell_type": "code",
   "execution_count": 7,
   "metadata": {},
   "outputs": [
    {
     "name": "stdout",
     "output_type": "stream",
     "text": [
      "Files without detected faces with haarcascade: 16016\n"
     ]
    }
   ],
   "source": [
    "print(\"Files without detected faces with haarcascade:\", len(no_face_files))"
   ]
  }
 ],
 "metadata": {
  "kernelspec": {
   "display_name": "venv",
   "language": "python",
   "name": "python3"
  },
  "language_info": {
   "codemirror_mode": {
    "name": "ipython",
    "version": 3
   },
   "file_extension": ".py",
   "mimetype": "text/x-python",
   "name": "python",
   "nbconvert_exporter": "python",
   "pygments_lexer": "ipython3",
   "version": "3.11.4"
  }
 },
 "nbformat": 4,
 "nbformat_minor": 2
}
