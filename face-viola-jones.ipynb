{
 "cells": [
  {
   "cell_type": "code",
   "execution_count": 10,
   "metadata": {},
   "outputs": [],
   "source": [
    "import cv2\n",
    "import os\n",
    "import shutil\n",
    "import matplotlib.pyplot as plt\n",
    "from tqdm import tqdm\n",
    "# from deepface import DeepFace"
   ]
  },
  {
   "cell_type": "code",
   "execution_count": 11,
   "metadata": {},
   "outputs": [],
   "source": [
    "# Define the directories\n",
    "src_dir = './archive/'\n",
    "dst_dir = './cropped/'\n",
    "\n",
    "no_face_files = []"
   ]
  },
  {
   "cell_type": "code",
   "execution_count": 12,
   "metadata": {},
   "outputs": [],
   "source": [
    "face_cascade = cv2.CascadeClassifier(cv2.data.haarcascades + 'haarcascade_frontalface_default.xml')"
   ]
  },
  {
   "cell_type": "code",
   "execution_count": 13,
   "metadata": {},
   "outputs": [],
   "source": [
    "def process_subfolders(folder_path):\n",
    "    num_files = sum([len(files) for _, _, files in os.walk(folder_path)])\n",
    "    processed_files = 0\n",
    "\n",
    "    with tqdm(total=num_files, desc='Processing files') as pbar:\n",
    "        for dirpath, dirnames, filenames in os.walk(folder_path):\n",
    "            # Get the subfolder name\n",
    "            subfolder_name = os.path.basename(dirpath)\n",
    "\n",
    "            # Check if the subfolder name is larger than 3999\n",
    "            # if subfolder_name.isdigit() and int(subfolder_name) > 3999:\n",
    "            for filename in filenames:\n",
    "                if filename.endswith('.png'):\n",
    "                    # Construct the full source file path\n",
    "                    src_file = os.path.join(dirpath, filename)\n",
    "\n",
    "                    # Process the file\n",
    "                    process_file(src_file)\n",
    "                    processed_files += 1\n",
    "                    pbar.update(1)\n",
    "\n",
    "    print(f\"Number of files in {src_dir}: {num_files}\")\n",
    "    print(f\"Number of files processed: {processed_files}\")"
   ]
  },
  {
   "cell_type": "code",
   "execution_count": 14,
   "metadata": {},
   "outputs": [],
   "source": [
    "def process_file(file_path):\n",
    "    # Load the image in grayscale format\n",
    "    image = cv2.imread(file_path, 0)\n",
    "\n",
    "    # Detect faces in the grayscale image\n",
    "    faces = face_cascade.detectMultiScale(image, scaleFactor=1.5, minNeighbors=3, minSize=(100, 100))\n",
    "\n",
    "\n",
    "    if len(faces) != 0:\n",
    "        dst_file = os.path.join(dst_dir, os.path.relpath(file_path, src_dir))\n",
    "\n",
    "        for i, (x, y, w, h) in enumerate(faces):\n",
    "            face_img = image[y:y+h, x:x+w]\n",
    "            face_resized = cv2.resize(face_img, (128, 128))\n",
    "            os.makedirs(os.path.dirname(dst_file), exist_ok=True)\n",
    "            cv2.imwrite(dst_file, face_resized)\n",
    "\n",
    "\n",
    "    else:\n",
    "        # No face detected, add file path to the list\n",
    "        no_face_files.append(file_path)"
   ]
  },
  {
   "cell_type": "code",
   "execution_count": 15,
   "metadata": {},
   "outputs": [
    {
     "name": "stderr",
     "output_type": "stream",
     "text": [
      "Processing files: 100%|██████████| 6/6 [00:00<00:00,  9.04it/s]"
     ]
    },
    {
     "name": "stdout",
     "output_type": "stream",
     "text": [
      "Number of files in ./archive/: 6\n",
      "Number of files processed: 6\n"
     ]
    },
    {
     "name": "stderr",
     "output_type": "stream",
     "text": [
      "\n"
     ]
    }
   ],
   "source": [
    "process_subfolders(src_dir)"
   ]
  },
  {
   "cell_type": "code",
   "execution_count": 16,
   "metadata": {},
   "outputs": [
    {
     "name": "stdout",
     "output_type": "stream",
     "text": [
      "Files without detected faces with haarcascade: 2\n"
     ]
    }
   ],
   "source": [
    "print(\"Files without detected faces with haarcascade:\", len(no_face_files))"
   ]
  }
 ],
 "metadata": {
  "kernelspec": {
   "display_name": "venv",
   "language": "python",
   "name": "python3"
  },
  "language_info": {
   "codemirror_mode": {
    "name": "ipython",
    "version": 3
   },
   "file_extension": ".py",
   "mimetype": "text/x-python",
   "name": "python",
   "nbconvert_exporter": "python",
   "pygments_lexer": "ipython3",
   "version": "3.11.4"
  }
 },
 "nbformat": 4,
 "nbformat_minor": 2
}
